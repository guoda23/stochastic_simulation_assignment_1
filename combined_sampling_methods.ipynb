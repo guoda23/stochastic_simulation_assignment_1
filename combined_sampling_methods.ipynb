{
 "cells": [
  {
   "cell_type": "code",
   "execution_count": 5,
   "metadata": {},
   "outputs": [],
   "source": [
    "import matplotlib.pyplot as plt\n",
    "import numpy as np\n",
    "import tqdm\n",
    "import random\n",
    "import os \n",
    "import imageio \n",
    "from IPython.display import Image\n",
    "import pandas as pd\n",
    "import csv\n",
    "import sympy"
   ]
  },
  {
   "cell_type": "code",
   "execution_count": 7,
   "metadata": {},
   "outputs": [],
   "source": [
    "def get_prime_squares(max_value):\n",
    "    \"\"\"\n",
    "    This function outputs prime square values between 1 to some specified maximum value.\n",
    "\n",
    "    Input: upper bound of prime square value\n",
    "\n",
    "    Output: list of prime squares from 1 to the upper bound (or up to closest prime square below the upper bound)\n",
    "    \"\"\"\n",
    "    # Get a sufficient amount of prime numbers for testing\n",
    "    primes = list(sympy.primerange(0.5*(max_value)))\n",
    "    # Add a prime square if within bounds\n",
    "    prime_squares = [p**2 for p in primes if p**2 < max_value]\n",
    "\n",
    "    return prime_squares"
   ]
  },
  {
   "cell_type": "code",
   "execution_count": null,
   "metadata": {},
   "outputs": [],
   "source": [
    "def run_MC_mandelbrot(seed = 100, num_runs = 5, i_max=100, s_values = [9, 25, 49, 121, 169, 289, 361], sampling_method = 'pure random'):\n",
    "    num_samples = len(s_values)\n",
    "\n",
    "    area_estimations_sum = np.zeros((i_max, num_samples, num_runs))\n",
    "    reference_areas = np.zeros((num_samples, num_runs))\n",
    "\n",
    "    for run in range(num_runs):\n",
    "        print(f\"Run {run + 1}/{num_runs}\")\n",
    "\n",
    "\n",
    "        for idx, s in enumerate(s_values):\n",
    "            reference_s = s\n",
    "            reference_i = i_max\n",
    "            reference_area = 0.0\n",
    "\n",
    "            #Generate Samples\n",
    "            #TODO: if statement for sampling types\n",
    "            x_samples, y_samples = latin_hypercube_sampling(s, random_state=seed)\n",
    "\n",
    "            for x, y in zip(x_samples, y_samples):\n",
    "                c = complex(x, y)\n",
    "                z = c\n",
    "\n",
    "                for j in range(i):\n",
    "                    if abs(z) > 2.0:\n",
    "                        break\n",
    "                    z = z * z + c\n",
    "                else:\n",
    "                    # Point is inside the Mandelbrot set\n",
    "                    AM += 1\n",
    "        \n",
    "        reference_area = (reference_area / reference_s) * (xmax - xmin) * (ymax - ymin)\n",
    "        reference_areas[idx, run] = reference_area\n",
    "        print(f\"Reference Area for Run {run + 1}: {reference_area}, s: {s}\")\n",
    "\n",
    "        for j in range(1, i_max + 1):\n",
    "            AM = 0.0\n",
    "            for _ in range(s):\n",
    "                x = np.random.uniform(xmin, xmax)\n",
    "                y = np.random.uniform(ymin, ymax)\n",
    "                c = complex(x, y)\n",
    "                z = c\n",
    "\n",
    "                for _ in range(j):\n",
    "                    if abs(z) > 2.0:\n",
    "                        break\n",
    "                    z = z * z + c\n",
    "                else:\n",
    "                    AM += 1\n",
    "\n",
    "            AM = (AM / s) * (xmax - xmin) * (ymax - ymin)\n",
    "            area_estimations_sum[j - 1, idx, run] = AM\n",
    "\n",
    "\n",
    "\n"
   ]
  }
 ],
 "metadata": {
  "kernelspec": {
   "display_name": "base",
   "language": "python",
   "name": "python3"
  },
  "language_info": {
   "codemirror_mode": {
    "name": "ipython",
    "version": 3
   },
   "file_extension": ".py",
   "mimetype": "text/x-python",
   "name": "python",
   "nbconvert_exporter": "python",
   "pygments_lexer": "ipython3",
   "version": "3.9.13"
  }
 },
 "nbformat": 4,
 "nbformat_minor": 2
}
